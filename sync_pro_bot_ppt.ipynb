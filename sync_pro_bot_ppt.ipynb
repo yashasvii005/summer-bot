{
 "cells": [
  {
   "cell_type": "code",
   "execution_count": 1,
   "id": "3070ae28",
   "metadata": {},
   "outputs": [
    {
     "name": "stdout",
     "output_type": "stream",
     "text": [
      "Requirement already satisfied: python-pptx in c:\\users\\yasha\\anaconda3\\lib\\site-packages (1.0.2)\n",
      "Requirement already satisfied: Pillow>=3.3.2 in c:\\users\\yasha\\anaconda3\\lib\\site-packages (from python-pptx) (10.3.0)\n",
      "Requirement already satisfied: XlsxWriter>=0.5.7 in c:\\users\\yasha\\anaconda3\\lib\\site-packages (from python-pptx) (3.2.3)\n",
      "Requirement already satisfied: lxml>=3.1.0 in c:\\users\\yasha\\anaconda3\\lib\\site-packages (from python-pptx) (5.2.1)\n",
      "Requirement already satisfied: typing-extensions>=4.9.0 in c:\\users\\yasha\\anaconda3\\lib\\site-packages (from python-pptx) (4.11.0)\n"
     ]
    }
   ],
   "source": [
    "!pip install python-pptx\n"
   ]
  },
  {
   "cell_type": "code",
   "execution_count": 2,
   "id": "05dcec40",
   "metadata": {},
   "outputs": [],
   "source": [
    "from pptx import Presentation\n",
    "\n",
    "# Create a presentation object\n",
    "prs = Presentation()\n",
    "\n",
    "# Title slide\n",
    "slide = prs.slides.add_slide(prs.slide_layouts[0])\n",
    "slide.shapes.title.text = \"SyncPro Bot Deployment\"\n",
    "slide.placeholders[1].text = \"Using Gemini 2.0 API, Streamlit & AWS EC2\""
   ]
  },
  {
   "cell_type": "code",
   "execution_count": 3,
   "id": "d3e17a0b",
   "metadata": {},
   "outputs": [],
   "source": [
    "# Slide 2: Project Overview\n",
    "slide = prs.slides.add_slide(prs.slide_layouts[1])\n",
    "slide.shapes.title.text = \"Project Overview\"\n",
    "slide.placeholders[1].text = (\n",
    "    \"• Built with Gemini 2.0 API\\n\"\n",
    "    \"• Streamlit for UI\\n\"\n",
    "    \"• Deployed on AWS EC2\\n\"\n",
    "    \"• CI/CD via GitHub Actions\"\n",
    ")\n",
    "\n",
    "# Slide 3: Architecture\n",
    "slide = prs.slides.add_slide(prs.slide_layouts[1])\n",
    "slide.shapes.title.text = \"Deployment Architecture\"\n",
    "slide.placeholders[1].text = (\n",
    "    \"1. Code pushed to GitHub\\n\"\n",
    "    \"2. GitHub Actions run CI/CD\\n\"\n",
    "    \"3. EC2 pulls latest build\\n\"\n",
    "    \"4. Streamlit runs the bot\"\n",
    ")"
   ]
  },
  {
   "cell_type": "code",
   "execution_count": 4,
   "id": "e58a8212",
   "metadata": {},
   "outputs": [
    {
     "name": "stdout",
     "output_type": "stream",
     "text": [
      "✅ PPT file created successfully!\n"
     ]
    }
   ],
   "source": [
    "# Save to file\n",
    "prs.save(\"SyncPro_Bot_Presentation.pptx\")\n",
    "print(\"✅ PPT file created successfully!\")"
   ]
  },
  {
   "cell_type": "code",
   "execution_count": null,
   "id": "48328438",
   "metadata": {},
   "outputs": [],
   "source": []
  }
 ],
 "metadata": {
  "kernelspec": {
   "display_name": "base",
   "language": "python",
   "name": "python3"
  },
  "language_info": {
   "codemirror_mode": {
    "name": "ipython",
    "version": 3
   },
   "file_extension": ".py",
   "mimetype": "text/x-python",
   "name": "python",
   "nbconvert_exporter": "python",
   "pygments_lexer": "ipython3",
   "version": "3.12.4"
  }
 },
 "nbformat": 4,
 "nbformat_minor": 5
}
